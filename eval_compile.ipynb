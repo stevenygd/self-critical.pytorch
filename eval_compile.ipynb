{
 "cells": [
  {
   "cell_type": "code",
   "execution_count": 1,
   "metadata": {},
   "outputs": [],
   "source": [
    "import models\n",
    "import opts\n",
    "import pickle"
   ]
  },
  {
   "cell_type": "code",
   "execution_count": 2,
   "metadata": {},
   "outputs": [],
   "source": [
    "with open('sup_repro_820_adam/eval_result__sup_repro_820_adam.pkl', 'r') as pkfile:\n",
    "    stuff = pickle.load(pkfile)"
   ]
  },
  {
   "cell_type": "code",
   "execution_count": 5,
   "metadata": {},
   "outputs": [
    {
     "data": {
      "text/plain": [
       "{'caption': u'a woman holding an umbrella in front of a herd of animals',\n",
       " 'image_id': 184613}"
      ]
     },
     "execution_count": 5,
     "metadata": {},
     "output_type": "execute_result"
    }
   ],
   "source": [
    "stuff['val']['predictions'][0]"
   ]
  },
  {
   "cell_type": "code",
   "execution_count": 53,
   "metadata": {
    "scrolled": true
   },
   "outputs": [
    {
     "name": "stderr",
     "output_type": "stream",
     "text": [
      "100% (5000 of 5000) |####################| Elapsed Time: 0:00:00 Time:  0:00:00\n",
      "100% (113287 of 113287) |################| Elapsed Time: 0:00:00 Time:  0:00:00\n",
      "100% (5000 of 5000) |####################| Elapsed Time: 0:00:00 Time:  0:00:00\n"
     ]
    }
   ],
   "source": [
    "sp = ['val', 'train', 'test']\n",
    "ans = {}\n",
    "\n",
    "import progressbar\n",
    "\n",
    "for tag in sp:\n",
    "    bar = progressbar.ProgressBar()\n",
    "    for pairs in bar(stuff[tag]['predictions']): \n",
    "        name = int_2_fname[pairs['image_id']]\n",
    "        ans[name] = pairs['caption']\n",
    "\n",
    "import json\n",
    "with open('sup_repro_820_adam.json', 'w') as outfile:\n",
    "    json.dump(ans, outfile)"
   ]
  },
  {
   "cell_type": "code",
   "execution_count": 48,
   "metadata": {},
   "outputs": [
    {
     "ename": "KeyError",
     "evalue": "'COCO_test2014_000000522418.jpg'",
     "output_type": "error",
     "traceback": [
      "\u001b[0;31m---------------------------------------------------------------------------\u001b[0m",
      "\u001b[0;31mKeyError\u001b[0m                                  Traceback (most recent call last)",
      "\u001b[0;32m<ipython-input-48-67d253789efd>\u001b[0m in \u001b[0;36m<module>\u001b[0;34m()\u001b[0m\n\u001b[0;32m----> 1\u001b[0;31m \u001b[0mans\u001b[0m\u001b[0;34m[\u001b[0m\u001b[0;34m'COCO_test2014_000000522418.jpg'\u001b[0m\u001b[0;34m]\u001b[0m\u001b[0;34m\u001b[0m\u001b[0m\n\u001b[0m",
      "\u001b[0;31mKeyError\u001b[0m: 'COCO_test2014_000000522418.jpg'"
     ]
    }
   ],
   "source": [
    "ans['COCO_val2014_000000522418.jpg']"
   ]
  },
  {
   "cell_type": "code",
   "execution_count": 21,
   "metadata": {},
   "outputs": [],
   "source": [
    "with open('../cvpr18-caption-eval/data/karpathysplit/dataset_coco.json', 'r') as pkfile:\n",
    "    stujj = json.load(pkfile)"
   ]
  },
  {
   "cell_type": "code",
   "execution_count": 40,
   "metadata": {},
   "outputs": [],
   "source": [
    "filenames = [x['filename'] for x in stujj['images']]\n",
    "int_2_fname = {}\n",
    "for name in filenames:\n",
    "    int_2_fname[int(name[-10:-4])] = name"
   ]
  },
  {
   "cell_type": "code",
   "execution_count": 49,
   "metadata": {},
   "outputs": [
    {
     "data": {
      "text/plain": [
       "u'COCO_val2014_000000522418.jpg'"
      ]
     },
     "execution_count": 49,
     "metadata": {},
     "output_type": "execute_result"
    }
   ],
   "source": [
    "int_2_fname[522418]"
   ]
  },
  {
   "cell_type": "code",
   "execution_count": 20,
   "metadata": {},
   "outputs": [
    {
     "data": {
      "text/plain": [
       "[u'sentids',\n",
       " u'filepath',\n",
       " u'filename',\n",
       " u'imgid',\n",
       " u'split',\n",
       " u'sentences',\n",
       " u'cocoid']"
      ]
     },
     "execution_count": 20,
     "metadata": {},
     "output_type": "execute_result"
    }
   ],
   "source": [
    "stujj['images'][0].keys()"
   ]
  },
  {
   "cell_type": "code",
   "execution_count": 21,
   "metadata": {},
   "outputs": [],
   "source": [
    "ans = {}\n",
    "for image in stujj['images']:\n",
    "    ans[image['filename']] = image['sentences']\n",
    "\n",
    "with open('imgid_2_ann.json', 'w') as outfile:\n",
    "    json.dump(ans, outfile)"
   ]
  },
  {
   "cell_type": "code",
   "execution_count": null,
   "metadata": {},
   "outputs": [],
   "source": []
  }
 ],
 "metadata": {
  "kernelspec": {
   "display_name": "Python 2",
   "language": "python",
   "name": "python2"
  },
  "language_info": {
   "codemirror_mode": {
    "name": "ipython",
    "version": 2
   },
   "file_extension": ".py",
   "mimetype": "text/x-python",
   "name": "python",
   "nbconvert_exporter": "python",
   "pygments_lexer": "ipython2",
   "version": "2.7.12"
  }
 },
 "nbformat": 4,
 "nbformat_minor": 2
}
